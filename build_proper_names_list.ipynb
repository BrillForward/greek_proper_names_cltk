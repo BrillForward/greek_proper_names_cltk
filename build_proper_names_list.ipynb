{
 "metadata": {
  "name": "",
  "signature": "sha256:31f05c75e400dab4c2d66bfe7a0ecd5b2853022c57d6a522e2d50ed941eb42e2"
 },
 "nbformat": 3,
 "nbformat_minor": 0,
 "worksheets": [
  {
   "cells": [
    {
     "cell_type": "code",
     "collapsed": false,
     "input": [
      "import os\n",
      "import re\n",
      "import sys"
     ],
     "language": "python",
     "metadata": {},
     "outputs": [],
     "prompt_number": 1
    },
    {
     "cell_type": "code",
     "collapsed": false,
     "input": [
      "tlg_path_rel = '~/cltk_data/compiled/tlg/'\n",
      "tlg_path_abs = os.path.expanduser(tlg_path_rel)\n",
      "tlg_files = os.listdir(tlg_path_abs)"
     ],
     "language": "python",
     "metadata": {},
     "outputs": [],
     "prompt_number": 2
    },
    {
     "cell_type": "code",
     "collapsed": false,
     "input": [
      "#d = re.compile(r'([a-z]\\s)([A-Z][a-zA-Z]+)')\n",
      "#uppers = '\u0386|\u0388|\u0389|\u038a|\u038c|\u038e|\u038f|\u0390|\u0391|\u0392|\u0393|\u0394|\u0395|\u0396|\u0397|\u0398|\u0399|\u039a|\u039b|\u039c|\u039d|\u039e|\u039f|\u03a0|\u03a1|\u03a3|\u03a4|\u03a5|\u03a6|\u03a7|\u03a8|\u03a9|\u03aa|\u03ab|\u0386|\u0388|\u0389|\u038a|\u038c|\u038e|\u038f|\u0390|\u0391|\u0395|\u0397|\u0399|\u039f|\u03a1|\u03a5|\u03a9|\u03aa|\u03ab|\u1f08|\u1f09|\u1f0a|\u1f0b|\u1f0c|\u1f0d|\u1f0e|\u1f0f|\u1f18|\u1f19|\u1f1a|\u1f1b|\u1f1c|\u1f1d|\u1f38|\u1f39|\u1f3a|\u1f3b|\u1f3c|\u1f3d|\u1f3e|\u1f3f|\u1f48|\u1f49|\u1f4a|\u1f4b|\u1f4c|\u1f4d|\u1f59|\u1f5b|\u1f5d|\u1f5f|\u1f68|\u1f69|\u1f6a|\u1f6b|\u1f6c|\u1f6d|\u1f6e|\u1f6f|\u1f88|\u1f89|\u1f8a|\u1f8b|\u1f8c|\u1f8d|\u1f8e|\u1f8f|\u1f98|\u1f99|\u1f9a|\u1f9b|\u1f9c|\u1f9d|\u1f9e|\u1f9f|\u1fa8|\u1fa9|\u1faa|\u1fab|\u1fac|\u1fad|\u1fae|\u1faf|\u1fb8|\u1fb9|\u1fba|\u1fbc|\u1fc8|\u1fca|\u1fcc|\u1fd8|\u1fd9|\u1fda|\u1ff8|\u1ffa|\u1ffc|\u1fe8|\u1fe9|\u1fea|\u1fec'\n",
      "#lowers = '\u03ac|\u03ad|\u03ae|\u03af|\u03b0|\u03b1|\u03b5|\u03b7|\u03b9|\u03bf|\u03c1|\u03c5|\u03c9|\u03ca|\u03cb|\u03cc|\u03cd|\u03ce|\u1f00|\u1f01|\u1f02|\u1f03|\u1f04|\u1f05|\u1f06|\u1f07|\u1f20|\u1f21|\u1f22|\u1f23|\u1f24|\u1f25|\u1f26|\u1f27|\u1f30|\u1f31|\u1f32|\u1f33|\u1f34|\u1f35|\u1f36|\u1f37|\u1f40|\u1f41|\u1f42|\u1f43|\u1f44|\u1f45|\u1f50|\u1f51|\u1f52|\u1f53|\u1f54|\u1f55|\u1f56|\u1f57|\u1f60|\u1f61|\u1f62|\u1f63|\u1f64|\u1f65|\u1f66|\u1f67|\u1f70|\u1f72|\u1f74|\u1f76|\u1f78|\u1f7a|\u1f7c|\u1f80|\u1f81|\u1f82|\u1f83|\u1f84|\u1f85|\u1f86|\u1f87|\u1f90|\u1f91|\u1f92|\u1f93|\u1f94|\u1f95|\u1f96|\u1f97|\u1fa0|\u1fa1|\u1fa2|\u1fa3|\u1fa4|\u1fa5|\u1fa6|\u1fa7|\u1fb0|\u1fb1|\u1fb2|\u1fb3|\u1fb4|\u1fb6|\u1fb7|\u1fc2|\u1fc3|\u1fc4|\u1fc6|\u1fc7|\u1fd0|\u1fd1|\u1fd2|\u1fd6|\u1fd7|\u1fe0|\u1fe1|\u1fe2|\u1fe4|\u1fe5|\u1fe6|\u1fe7|\u1ff2|\u1ff3|\u1ff4|\u1ff6|\u1ff7|\u1f10|\u1f11|\u1f12|\u1f13|\u1f14|\u1f15|\u03ac|\u03ad|\u03ae|\u03af|\u03b0|\u03b1|\u03b2|\u03b3|\u03b4|\u03b5|\u03b6|\u03b7|\u03b8|\u03b9|\u03ba|\u03bb|\u03bc|\u03bd|\u03be|\u03bf|\u03c0|\u03c1|\u03c2|\u03c3|\u03c4|\u03c5|\u03c6|\u03c7|\u03c8|\u03c9|\u03ca|\u03cb|\u03cc|\u03cd|\u03ce'\n",
      "#TODO: add iota diaeresis + acute: \u0390"
     ],
     "language": "python",
     "metadata": {},
     "outputs": [],
     "prompt_number": 3
    },
    {
     "cell_type": "code",
     "collapsed": false,
     "input": [
      "d = re.compile(r'([\u03ac|\u03ad|\u03ae|\u03af|\u03b0|\u03b1|\u03b5|\u03b7|\u03b9|\u03bf|\u03c1|\u03c5|\u03c9|\u03ca|\u03cb|\u03cc|\u03cd|\u03ce|\u1f00|\u1f01|\u1f02|\u1f03|\u1f04|\u1f05|\u1f06|\u1f07|\u1f20|\u1f21|\u1f22|\u1f23|\u1f24|\u1f25|\u1f26|\u1f27|\u1f30|\u1f31|\u1f32|\u1f33|\u1f34|\u1f35|\u1f36|\u1f37|\u1f40|\u1f41|\u1f42|\u1f43|\u1f44|\u1f45|\u1f50|\u1f51|\u1f52|\u1f53|\u1f54|\u1f55|\u1f56|\u1f57|\u1f60|\u1f61|\u1f62|\u1f63|\u1f64|\u1f65|\u1f66|\u1f67|\u1f70|\u1f72|\u1f74|\u1f76|\u1f78|\u1f7a|\u1f7c|\u1f80|\u1f81|\u1f82|\u1f83|\u1f84|\u1f85|\u1f86|\u1f87|\u1f90|\u1f91|\u1f92|\u1f93|\u1f94|\u1f95|\u1f96|\u1f97|\u1fa0|\u1fa1|\u1fa2|\u1fa3|\u1fa4|\u1fa5|\u1fa6|\u1fa7|\u1fb0|\u1fb1|\u1fb2|\u1fb3|\u1fb4|\u1fb6|\u1fb7|\u1fc2|\u1fc3|\u1fc4|\u1fc6|\u1fc7|\u1fd0|\u1fd1|\u1fd2|\u1fd6|\u1fd7|\u1fe0|\u1fe1|\u1fe2|\u1fe4|\u1fe5|\u1fe6|\u1fe7|\u1ff2|\u1ff3|\u1ff4|\u1ff6|\u1ff7|\u1f10|\u1f11|\u1f12|\u1f13|\u1f14|\u1f15|\u03ac|\u03ad|\u03ae|\u03af|\u03b0|\u03b1|\u03b2|\u03b3|\u03b4|\u03b5|\u03b6|\u03b7|\u03b8|\u03b9|\u03ba|\u03bb|\u03bc|\u03bd|\u03be|\u03bf|\u03c0|\u03c1|\u03c2|\u03c3|\u03c4|\u03c5|\u03c6|\u03c7|\u03c8|\u03c9|\u03ca|\u03cb|\u03cc|\u03cd|\u03ce]\\s)([\u0386|\u0388|\u0389|\u038a|\u038c|\u038e|\u038f|\u0390|\u0391|\u0392|\u0393|\u0394|\u0395|\u0396|\u0397|\u0398|\u0399|\u039a|\u039b|\u039c|\u039d|\u039e|\u039f|\u03a0|\u03a1|\u03a3|\u03a4|\u03a5|\u03a6|\u03a7|\u03a8|\u03a9|\u03aa|\u03ab|\u0386|\u0388|\u0389|\u038a|\u038c|\u038e|\u038f|\u0390|\u0391|\u0395|\u0397|\u0399|\u039f|\u03a1|\u03a5|\u03a9|\u03aa|\u03ab|\u1f08|\u1f09|\u1f0a|\u1f0b|\u1f0c|\u1f0d|\u1f0e|\u1f0f|\u1f18|\u1f19|\u1f1a|\u1f1b|\u1f1c|\u1f1d|\u1f38|\u1f39|\u1f3a|\u1f3b|\u1f3c|\u1f3d|\u1f3e|\u1f3f|\u1f48|\u1f49|\u1f4a|\u1f4b|\u1f4c|\u1f4d|\u1f59|\u1f5b|\u1f5d|\u1f5f|\u1f68|\u1f69|\u1f6a|\u1f6b|\u1f6c|\u1f6d|\u1f6e|\u1f6f|\u1f88|\u1f89|\u1f8a|\u1f8b|\u1f8c|\u1f8d|\u1f8e|\u1f8f|\u1f98|\u1f99|\u1f9a|\u1f9b|\u1f9c|\u1f9d|\u1f9e|\u1f9f|\u1fa8|\u1fa9|\u1faa|\u1fab|\u1fac|\u1fad|\u1fae|\u1faf|\u1fb8|\u1fb9|\u1fba|\u1fbc|\u1fc8|\u1fca|\u1fcc|\u1fd8|\u1fd9|\u1fda|\u1ff8|\u1ffa|\u1ffc|\u1fe8|\u1fe9|\u1fea|\u1fec][\u03ac|\u03ad|\u03ae|\u03af|\u03b0|\u03b1|\u03b5|\u03b7|\u03b9|\u03bf|\u03c1|\u03c5|\u03c9|\u03ca|\u03cb|\u03cc|\u03cd|\u03ce|\u1f00|\u1f01|\u1f02|\u1f03|\u1f04|\u1f05|\u1f06|\u1f07|\u1f20|\u1f21|\u1f22|\u1f23|\u1f24|\u1f25|\u1f26|\u1f27|\u1f30|\u1f31|\u1f32|\u1f33|\u1f34|\u1f35|\u1f36|\u1f37|\u1f40|\u1f41|\u1f42|\u1f43|\u1f44|\u1f45|\u1f50|\u1f51|\u1f52|\u1f53|\u1f54|\u1f55|\u1f56|\u1f57|\u1f60|\u1f61|\u1f62|\u1f63|\u1f64|\u1f65|\u1f66|\u1f67|\u1f70|\u1f72|\u1f74|\u1f76|\u1f78|\u1f7a|\u1f7c|\u1f80|\u1f81|\u1f82|\u1f83|\u1f84|\u1f85|\u1f86|\u1f87|\u1f90|\u1f91|\u1f92|\u1f93|\u1f94|\u1f95|\u1f96|\u1f97|\u1fa0|\u1fa1|\u1fa2|\u1fa3|\u1fa4|\u1fa5|\u1fa6|\u1fa7|\u1fb0|\u1fb1|\u1fb2|\u1fb3|\u1fb4|\u1fb6|\u1fb7|\u1fc2|\u1fc3|\u1fc4|\u1fc6|\u1fc7|\u1fd0|\u1fd1|\u1fd2|\u1fd6|\u1fd7|\u1fe0|\u1fe1|\u1fe2|\u1fe4|\u1fe5|\u1fe6|\u1fe7|\u1ff2|\u1ff3|\u1ff4|\u1ff6|\u1ff7|\u1f10|\u1f11|\u1f12|\u1f13|\u1f14|\u1f15|\u03ac|\u03ad|\u03ae|\u03af|\u03b0|\u03b1|\u03b2|\u03b3|\u03b4|\u03b5|\u03b6|\u03b7|\u03b8|\u03b9|\u03ba|\u03bb|\u03bc|\u03bd|\u03be|\u03bf|\u03c0|\u03c1|\u03c2|\u03c3|\u03c4|\u03c5|\u03c6|\u03c7|\u03c8|\u03c9|\u03ca|\u03cb|\u03cc|\u03cd|\u03ce]+)')"
     ],
     "language": "python",
     "metadata": {},
     "outputs": [],
     "prompt_number": 4
    },
    {
     "cell_type": "code",
     "collapsed": false,
     "input": [
      "names_list = []\n",
      "for tlg_file in tlg_files:\n",
      "    if tlg_file.startswith('TLG') and tlg_file.endswith('.txt'):\n",
      "        file_path = tlg_path_abs + tlg_file\n",
      "        with open(file_path) as f:\n",
      "            opened_txt = f.read()\n",
      "            propers = d.findall(opened_txt)\n",
      "            for name in propers:\n",
      "                names_list.append(name[1])"
     ],
     "language": "python",
     "metadata": {},
     "outputs": [],
     "prompt_number": 5
    },
    {
     "cell_type": "code",
     "collapsed": false,
     "input": [
      "names_set = set(names_list)"
     ],
     "language": "python",
     "metadata": {},
     "outputs": [],
     "prompt_number": 6
    },
    {
     "cell_type": "code",
     "collapsed": false,
     "input": [
      "newlines_str = '\\n'.join(names_set)"
     ],
     "language": "python",
     "metadata": {},
     "outputs": [],
     "prompt_number": 7
    },
    {
     "cell_type": "code",
     "collapsed": false,
     "input": [
      "with open('proper_names.txt', 'w') as f:\n",
      "    f.write(newlines_str)"
     ],
     "language": "python",
     "metadata": {},
     "outputs": [],
     "prompt_number": 8
    }
   ],
   "metadata": {}
  }
 ]
}